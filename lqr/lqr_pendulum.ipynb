{
  "nbformat": 4,
  "nbformat_minor": 0,
  "metadata": {
    "colab": {
      "name": "lqr_pendulum.ipynb",
      "version": "0.3.2",
      "provenance": [],
      "collapsed_sections": []
    },
    "kernelspec": {
      "name": "python3",
      "display_name": "Python 3"
    }
  },
  "cells": [
    {
      "cell_type": "code",
      "metadata": {
        "id": "OYOCz4OZ5BQN",
        "colab_type": "code",
        "colab": {}
      },
      "source": [
        "import collections\n",
        "import scipy.linalg\n",
        "import scipy.integrate\n",
        "import numpy as np\n",
        "\n",
        "PendulumParams = collections.namedtuple(\n",
        "  \"PendulumParams\", \"length mass g\"\n",
        ")"
      ],
      "execution_count": 0,
      "outputs": []
    },
    {
      "cell_type": "code",
      "metadata": {
        "id": "g75MFaQX3j0m",
        "colab_type": "code",
        "outputId": "ff0bb606-e9b1-4c61-8634-c384d99dc182",
        "colab": {
          "base_uri": "https://localhost:8080/",
          "height": 187
        }
      },
      "source": [
        "def pendulum_dynamics(params):\n",
        "  \n",
        "  def dynamics(x, u, t):\n",
        "    del u, t\n",
        "    w = np.product(params)*np.sin(x[0])\n",
        "    # assume point mass and massless arm\n",
        "    inertia = params.mass * params.length**2\n",
        "    amat = np.array([[0, 1], [w/inertia, 0]])\n",
        "    bmat = np.array([[0], [np.reciprocal(inertia)]])\n",
        "    return amat, bmat\n",
        "  \n",
        "  return dynamics\n",
        "\n",
        "\n",
        "def dynamical_system(dynamics):\n",
        "  \n",
        "  def compute_dynamics(x, u, t):\n",
        "    amat, bmat = dynamics(x, u, t)\n",
        "    return np.dot(amat, x) + np.dot(bmat, u)\n",
        "  \n",
        "  return compute_dynamics\n",
        "\n",
        "\n",
        "def controlled_system(policy, system):\n",
        "  \n",
        "  def compute_dxdt(x, t):\n",
        "    u = policy(x, t)\n",
        "    dxdt = system(x, u, t)\n",
        "    return dxdt\n",
        "  \n",
        "  return compute_dxdt\n",
        "\n",
        "\n",
        "def continuous_lqr_solve(dynamics, x_goal, t, qmat, rmat):\n",
        "  amat, bmat = dynamics(x_goal, np.zeros(1), t)\n",
        "  pmat = scipy.linalg.solve_continuous_are(amat, bmat, qmat, rmat)\n",
        "  return scipy.linalg.solve(rmat, np.dot(bmat.T, pmat))\n",
        "  \n",
        "\n",
        "def lqr_policy(kmat, x_goal):\n",
        "  def policy(x, t):\n",
        "    return np.dot(kmat, x_goal - x)\n",
        "  return policy\n",
        "                  \n",
        "\n",
        "x_init = np.array([np.pi/2 - 0.2, 0.])\n",
        "x_goal = np.array([np.pi/2, 0.])\n",
        "params = PendulumParams(mass=1., length=1., g=-9.81)\n",
        "\n",
        "\n",
        "dynamics = pendulum_dynamics(params)\n",
        "kmat = continuous_lqr_solve(dynamics, x_goal, 0.,\n",
        "                            np.diag(np.array([1., 1e-2])),\n",
        "                            np.ones(1)*1e-5)\n",
        "policy = lqr_policy(kmat, x_goal)\n",
        "\n",
        "scipy.integrate.odeint(controlled_system(policy, dynamical_system(dynamics)),\n",
        "                       x_init, np.linspace(0, 2., 10))"
      ],
      "execution_count": 9,
      "outputs": [
        {
          "output_type": "execute_result",
          "data": {
            "text/plain": [
              "array([[1.37079633e+00, 0.00000000e+00],\n",
              "       [1.50064743e+00, 2.30054249e-01],\n",
              "       [1.52018635e+00, 2.11649634e-02],\n",
              "       [1.52196856e+00, 1.92084376e-03],\n",
              "       [1.52213030e+00, 1.74342563e-04],\n",
              "       [1.52214498e+00, 1.58324214e-05],\n",
              "       [1.52214631e+00, 1.44330321e-06],\n",
              "       [1.52214643e+00, 1.34434916e-07],\n",
              "       [1.52214644e+00, 1.33820520e-08],\n",
              "       [1.52214644e+00, 3.30573074e-09]])"
            ]
          },
          "metadata": {
            "tags": []
          },
          "execution_count": 9
        }
      ]
    },
    {
      "cell_type": "code",
      "metadata": {
        "id": "_fp7BFgshQZd",
        "colab_type": "code",
        "colab": {}
      },
      "source": [
        ""
      ],
      "execution_count": 0,
      "outputs": []
    }
  ]
}